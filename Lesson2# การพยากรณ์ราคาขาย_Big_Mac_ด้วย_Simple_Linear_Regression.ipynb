{
  "nbformat": 4,
  "nbformat_minor": 0,
  "metadata": {
    "colab": {
      "name": "Lesson2# การพยากรณ์ราคาขาย Big Mac ด้วย Simple Linear Regression.ipynb",
      "provenance": []
    },
    "kernelspec": {
      "name": "python3",
      "display_name": "Python 3"
    }
  },
  "cells": [
    {
      "cell_type": "code",
      "metadata": {
        "id": "O5bfGeP8L9ad",
        "colab_type": "code",
        "colab": {
          "base_uri": "https://localhost:8080/",
          "height": 52
        },
        "outputId": "fbaebdcf-86ad-4d36-e143-485363182c13"
      },
      "source": [
        "import pandas as pd\n",
        "import seaborn as sns\n",
        "import numpy as np\n",
        "import matplotlib.pyplot as plt\n",
        "%matplotlib inline\n",
        "%config InlineBackend.figure_format = 'retina'"
      ],
      "execution_count": 1,
      "outputs": [
        {
          "output_type": "stream",
          "text": [
            "/usr/local/lib/python3.6/dist-packages/statsmodels/tools/_testing.py:19: FutureWarning: pandas.util.testing is deprecated. Use the functions in the public API at pandas.testing instead.\n",
            "  import pandas.util.testing as tm\n"
          ],
          "name": "stderr"
        }
      ]
    },
    {
      "cell_type": "code",
      "metadata": {
        "id": "4YPAR9riOWR0",
        "colab_type": "code",
        "colab": {
          "base_uri": "https://localhost:8080/",
          "height": 197
        },
        "outputId": "bd2933d3-9512-49eb-f386-860ac0086df2"
      },
      "source": [
        "url ='https://raw.githubusercontent.com/TheEconomist/big-mac-data/master/output-data/big-mac-adjusted-index.csv'\n",
        "df = pd.read_csv(url, parse_dates = ['date'])\n",
        "df.head()"
      ],
      "execution_count": 2,
      "outputs": [
        {
          "output_type": "execute_result",
          "data": {
            "text/html": [
              "<div>\n",
              "<style scoped>\n",
              "    .dataframe tbody tr th:only-of-type {\n",
              "        vertical-align: middle;\n",
              "    }\n",
              "\n",
              "    .dataframe tbody tr th {\n",
              "        vertical-align: top;\n",
              "    }\n",
              "\n",
              "    .dataframe thead th {\n",
              "        text-align: right;\n",
              "    }\n",
              "</style>\n",
              "<table border=\"1\" class=\"dataframe\">\n",
              "  <thead>\n",
              "    <tr style=\"text-align: right;\">\n",
              "      <th></th>\n",
              "      <th>date</th>\n",
              "      <th>iso_a3</th>\n",
              "      <th>currency_code</th>\n",
              "      <th>name</th>\n",
              "      <th>local_price</th>\n",
              "      <th>dollar_ex</th>\n",
              "      <th>dollar_price</th>\n",
              "      <th>GDP_dollar</th>\n",
              "      <th>adj_price</th>\n",
              "      <th>USD</th>\n",
              "      <th>EUR</th>\n",
              "      <th>GBP</th>\n",
              "      <th>JPY</th>\n",
              "      <th>CNY</th>\n",
              "    </tr>\n",
              "  </thead>\n",
              "  <tbody>\n",
              "    <tr>\n",
              "      <th>0</th>\n",
              "      <td>2011-07-01</td>\n",
              "      <td>ARG</td>\n",
              "      <td>ARS</td>\n",
              "      <td>Argentina</td>\n",
              "      <td>20.00</td>\n",
              "      <td>4.132500</td>\n",
              "      <td>4.839685</td>\n",
              "      <td>9138.177</td>\n",
              "      <td>3.149757</td>\n",
              "      <td>1.011</td>\n",
              "      <td>0.475</td>\n",
              "      <td>0.850</td>\n",
              "      <td>0.906</td>\n",
              "      <td>0.946</td>\n",
              "    </tr>\n",
              "    <tr>\n",
              "      <th>1</th>\n",
              "      <td>2011-07-01</td>\n",
              "      <td>AUS</td>\n",
              "      <td>AUD</td>\n",
              "      <td>Australia</td>\n",
              "      <td>4.56</td>\n",
              "      <td>0.922382</td>\n",
              "      <td>4.943724</td>\n",
              "      <td>55589.549</td>\n",
              "      <td>5.792526</td>\n",
              "      <td>0.117</td>\n",
              "      <td>-0.181</td>\n",
              "      <td>0.027</td>\n",
              "      <td>0.059</td>\n",
              "      <td>0.081</td>\n",
              "    </tr>\n",
              "    <tr>\n",
              "      <th>2</th>\n",
              "      <td>2011-07-01</td>\n",
              "      <td>BRA</td>\n",
              "      <td>BRL</td>\n",
              "      <td>Brazil</td>\n",
              "      <td>9.50</td>\n",
              "      <td>1.541600</td>\n",
              "      <td>6.162429</td>\n",
              "      <td>10816.487</td>\n",
              "      <td>3.245241</td>\n",
              "      <td>1.485</td>\n",
              "      <td>0.823</td>\n",
              "      <td>1.286</td>\n",
              "      <td>1.356</td>\n",
              "      <td>1.405</td>\n",
              "    </tr>\n",
              "    <tr>\n",
              "      <th>3</th>\n",
              "      <td>2011-07-01</td>\n",
              "      <td>GBR</td>\n",
              "      <td>GBP</td>\n",
              "      <td>Britain</td>\n",
              "      <td>2.39</td>\n",
              "      <td>0.614137</td>\n",
              "      <td>3.891637</td>\n",
              "      <td>36119.846</td>\n",
              "      <td>4.684831</td>\n",
              "      <td>0.087</td>\n",
              "      <td>-0.202</td>\n",
              "      <td>0.000</td>\n",
              "      <td>0.031</td>\n",
              "      <td>0.052</td>\n",
              "    </tr>\n",
              "    <tr>\n",
              "      <th>4</th>\n",
              "      <td>2011-07-01</td>\n",
              "      <td>CAN</td>\n",
              "      <td>CAD</td>\n",
              "      <td>Canada</td>\n",
              "      <td>4.73</td>\n",
              "      <td>0.945850</td>\n",
              "      <td>5.000793</td>\n",
              "      <td>46214.914</td>\n",
              "      <td>5.259173</td>\n",
              "      <td>0.244</td>\n",
              "      <td>-0.087</td>\n",
              "      <td>0.145</td>\n",
              "      <td>0.180</td>\n",
              "      <td>0.204</td>\n",
              "    </tr>\n",
              "  </tbody>\n",
              "</table>\n",
              "</div>"
            ],
            "text/plain": [
              "        date iso_a3 currency_code       name  ...    EUR    GBP    JPY    CNY\n",
              "0 2011-07-01    ARG           ARS  Argentina  ...  0.475  0.850  0.906  0.946\n",
              "1 2011-07-01    AUS           AUD  Australia  ... -0.181  0.027  0.059  0.081\n",
              "2 2011-07-01    BRA           BRL     Brazil  ...  0.823  1.286  1.356  1.405\n",
              "3 2011-07-01    GBR           GBP    Britain  ... -0.202  0.000  0.031  0.052\n",
              "4 2011-07-01    CAN           CAD     Canada  ... -0.087  0.145  0.180  0.204\n",
              "\n",
              "[5 rows x 14 columns]"
            ]
          },
          "metadata": {
            "tags": []
          },
          "execution_count": 2
        }
      ]
    },
    {
      "cell_type": "code",
      "metadata": {
        "id": "iQjM38c3Rf3u",
        "colab_type": "code",
        "colab": {
          "base_uri": "https://localhost:8080/",
          "height": 390
        },
        "outputId": "ab685ab7-b163-4e3e-f425-ddf0f1a00070"
      },
      "source": [
        "df.info()"
      ],
      "execution_count": 3,
      "outputs": [
        {
          "output_type": "stream",
          "text": [
            "<class 'pandas.core.frame.DataFrame'>\n",
            "RangeIndex: 665 entries, 0 to 664\n",
            "Data columns (total 14 columns):\n",
            " #   Column         Non-Null Count  Dtype         \n",
            "---  ------         --------------  -----         \n",
            " 0   date           665 non-null    datetime64[ns]\n",
            " 1   iso_a3         665 non-null    object        \n",
            " 2   currency_code  665 non-null    object        \n",
            " 3   name           665 non-null    object        \n",
            " 4   local_price    665 non-null    float64       \n",
            " 5   dollar_ex      665 non-null    float64       \n",
            " 6   dollar_price   665 non-null    float64       \n",
            " 7   GDP_dollar     665 non-null    float64       \n",
            " 8   adj_price      665 non-null    float64       \n",
            " 9   USD            665 non-null    float64       \n",
            " 10  EUR            665 non-null    float64       \n",
            " 11  GBP            665 non-null    float64       \n",
            " 12  JPY            665 non-null    float64       \n",
            " 13  CNY            665 non-null    float64       \n",
            "dtypes: datetime64[ns](1), float64(10), object(3)\n",
            "memory usage: 72.9+ KB\n"
          ],
          "name": "stdout"
        }
      ]
    },
    {
      "cell_type": "code",
      "metadata": {
        "id": "9rjef8tKSNPJ",
        "colab_type": "code",
        "colab": {
          "base_uri": "https://localhost:8080/",
          "height": 197
        },
        "outputId": "29419746-1e30-46d6-c446-681c1619c1a6"
      },
      "source": [
        "#เอาข้อมูลปี2019 ละเรียงจากเดือน1\n",
        "df = df[(df['date'].dt.year==2019) & (df['date'].dt.month==1)]\n",
        "df.head()"
      ],
      "execution_count": 4,
      "outputs": [
        {
          "output_type": "execute_result",
          "data": {
            "text/html": [
              "<div>\n",
              "<style scoped>\n",
              "    .dataframe tbody tr th:only-of-type {\n",
              "        vertical-align: middle;\n",
              "    }\n",
              "\n",
              "    .dataframe tbody tr th {\n",
              "        vertical-align: top;\n",
              "    }\n",
              "\n",
              "    .dataframe thead th {\n",
              "        text-align: right;\n",
              "    }\n",
              "</style>\n",
              "<table border=\"1\" class=\"dataframe\">\n",
              "  <thead>\n",
              "    <tr style=\"text-align: right;\">\n",
              "      <th></th>\n",
              "      <th>date</th>\n",
              "      <th>iso_a3</th>\n",
              "      <th>currency_code</th>\n",
              "      <th>name</th>\n",
              "      <th>local_price</th>\n",
              "      <th>dollar_ex</th>\n",
              "      <th>dollar_price</th>\n",
              "      <th>GDP_dollar</th>\n",
              "      <th>adj_price</th>\n",
              "      <th>USD</th>\n",
              "      <th>EUR</th>\n",
              "      <th>GBP</th>\n",
              "      <th>JPY</th>\n",
              "      <th>CNY</th>\n",
              "    </tr>\n",
              "  </thead>\n",
              "  <tbody>\n",
              "    <tr>\n",
              "      <th>554</th>\n",
              "      <td>2019-01-01</td>\n",
              "      <td>ARG</td>\n",
              "      <td>ARS</td>\n",
              "      <td>Argentina</td>\n",
              "      <td>75.00</td>\n",
              "      <td>37.455000</td>\n",
              "      <td>2.002403</td>\n",
              "      <td>14462.920</td>\n",
              "      <td>3.165211</td>\n",
              "      <td>-0.419</td>\n",
              "      <td>-0.434</td>\n",
              "      <td>-0.338</td>\n",
              "      <td>-0.261</td>\n",
              "      <td>-0.396</td>\n",
              "    </tr>\n",
              "    <tr>\n",
              "      <th>555</th>\n",
              "      <td>2019-01-01</td>\n",
              "      <td>AUS</td>\n",
              "      <td>AUD</td>\n",
              "      <td>Australia</td>\n",
              "      <td>6.10</td>\n",
              "      <td>1.401640</td>\n",
              "      <td>4.352045</td>\n",
              "      <td>55692.730</td>\n",
              "      <td>4.945273</td>\n",
              "      <td>-0.192</td>\n",
              "      <td>-0.213</td>\n",
              "      <td>-0.080</td>\n",
              "      <td>0.028</td>\n",
              "      <td>-0.160</td>\n",
              "    </tr>\n",
              "    <tr>\n",
              "      <th>556</th>\n",
              "      <td>2019-01-01</td>\n",
              "      <td>BRA</td>\n",
              "      <td>BRL</td>\n",
              "      <td>Brazil</td>\n",
              "      <td>16.90</td>\n",
              "      <td>3.717950</td>\n",
              "      <td>4.545516</td>\n",
              "      <td>9895.765</td>\n",
              "      <td>2.968028</td>\n",
              "      <td>0.406</td>\n",
              "      <td>0.370</td>\n",
              "      <td>0.601</td>\n",
              "      <td>0.789</td>\n",
              "      <td>0.463</td>\n",
              "    </tr>\n",
              "    <tr>\n",
              "      <th>557</th>\n",
              "      <td>2019-01-01</td>\n",
              "      <td>GBR</td>\n",
              "      <td>GBP</td>\n",
              "      <td>Britain</td>\n",
              "      <td>3.19</td>\n",
              "      <td>0.783208</td>\n",
              "      <td>4.072992</td>\n",
              "      <td>39800.274</td>\n",
              "      <td>4.259130</td>\n",
              "      <td>-0.122</td>\n",
              "      <td>-0.145</td>\n",
              "      <td>0.000</td>\n",
              "      <td>0.117</td>\n",
              "      <td>-0.087</td>\n",
              "    </tr>\n",
              "    <tr>\n",
              "      <th>558</th>\n",
              "      <td>2019-01-01</td>\n",
              "      <td>CAN</td>\n",
              "      <td>CAD</td>\n",
              "      <td>Canada</td>\n",
              "      <td>6.77</td>\n",
              "      <td>1.331400</td>\n",
              "      <td>5.084873</td>\n",
              "      <td>45094.605</td>\n",
              "      <td>4.487708</td>\n",
              "      <td>0.040</td>\n",
              "      <td>0.013</td>\n",
              "      <td>0.185</td>\n",
              "      <td>0.323</td>\n",
              "      <td>0.082</td>\n",
              "    </tr>\n",
              "  </tbody>\n",
              "</table>\n",
              "</div>"
            ],
            "text/plain": [
              "          date iso_a3 currency_code       name  ...    EUR    GBP    JPY    CNY\n",
              "554 2019-01-01    ARG           ARS  Argentina  ... -0.434 -0.338 -0.261 -0.396\n",
              "555 2019-01-01    AUS           AUD  Australia  ... -0.213 -0.080  0.028 -0.160\n",
              "556 2019-01-01    BRA           BRL     Brazil  ...  0.370  0.601  0.789  0.463\n",
              "557 2019-01-01    GBR           GBP    Britain  ... -0.145  0.000  0.117 -0.087\n",
              "558 2019-01-01    CAN           CAD     Canada  ...  0.013  0.185  0.323  0.082\n",
              "\n",
              "[5 rows x 14 columns]"
            ]
          },
          "metadata": {
            "tags": []
          },
          "execution_count": 4
        }
      ]
    },
    {
      "cell_type": "code",
      "metadata": {
        "id": "_KWT5YIWSo93",
        "colab_type": "code",
        "colab": {
          "base_uri": "https://localhost:8080/",
          "height": 385
        },
        "outputId": "93b38566-ad48-4e88-ff7d-0204716b0d32"
      },
      "source": [
        "#plot linear model\n",
        "sns.lmplot(x='GDP_dollar', y='dollar_price', data=df, ci=None)"
      ],
      "execution_count": 5,
      "outputs": [
        {
          "output_type": "execute_result",
          "data": {
            "text/plain": [
              "<seaborn.axisgrid.FacetGrid at 0x7fcf6b9a6470>"
            ]
          },
          "metadata": {
            "tags": []
          },
          "execution_count": 5
        },
        {
          "output_type": "display_data",
          "data": {
            "image/png": "[encoded data removed]",
            "text/plain": [
              "<Figure size 360x360 with 1 Axes>"
            ]
          },
          "metadata": {
            "tags": [],
            "image/png": {
              "width": 352,
              "height": 351
            },
            "needs_background": "light"
          }
        }
      ]
    },
    {
      "cell_type": "code",
      "metadata": {
        "id": "i9a9ktPTTMWN",
        "colab_type": "code",
        "colab": {
          "base_uri": "https://localhost:8080/",
          "height": 450
        },
        "outputId": "920fb0bd-250a-423a-e9db-45e2dfd6fc06"
      },
      "source": [
        "sns.jointplot(x='GDP_dollar', y='dollar_price', data=df,kind='reg', ci=None, color='orange');"
      ],
      "execution_count": 6,
      "outputs": [
        {
          "output_type": "display_data",
          "data": {
            "image/png": "[encoded data removed]",
            "text/plain": [
              "<Figure size 432x432 with 3 Axes>"
            ]
          },
          "metadata": {
            "tags": [],
            "image/png": {
              "width": 414,
              "height": 433
            },
            "needs_background": "light"
          }
        }
      ]
    },
    {
      "cell_type": "code",
      "metadata": {
        "id": "Vw7xideLTrJ0",
        "colab_type": "code",
        "colab": {}
      },
      "source": [
        ""
      ],
      "execution_count": null,
      "outputs": []
    },
    {
      "cell_type": "markdown",
      "metadata": {
        "id": "bJzgUaZFT6tv",
        "colab_type": "text"
      },
      "source": [
        "**sklearn: LinearRegression**"
      ]
    },
    {
      "cell_type": "code",
      "metadata": {
        "id": "Ta_E7cgMUBZa",
        "colab_type": "code",
        "colab": {}
      },
      "source": [
        "from sklearn.linear_model import LinearRegression"
      ],
      "execution_count": 7,
      "outputs": []
    },
    {
      "cell_type": "code",
      "metadata": {
        "id": "A_1k-yomUI_F",
        "colab_type": "code",
        "colab": {
          "base_uri": "https://localhost:8080/",
          "height": 34
        },
        "outputId": "86384727-267a-4a89-966e-725684c387a4"
      },
      "source": [
        "model = LinearRegression()\n",
        "model"
      ],
      "execution_count": 8,
      "outputs": [
        {
          "output_type": "execute_result",
          "data": {
            "text/plain": [
              "LinearRegression(copy_X=True, fit_intercept=True, n_jobs=None, normalize=False)"
            ]
          },
          "metadata": {
            "tags": []
          },
          "execution_count": 8
        }
      ]
    },
    {
      "cell_type": "code",
      "metadata": {
        "id": "H5kXQi1DUNyg",
        "colab_type": "code",
        "colab": {}
      },
      "source": [
        "X=df[['GDP_dollar']] #expect 2D array not Series(1D)\n",
        "y=df.dollar_price"
      ],
      "execution_count": 9,
      "outputs": []
    },
    {
      "cell_type": "code",
      "metadata": {
        "id": "yzFx45jeUex5",
        "colab_type": "code",
        "colab": {
          "base_uri": "https://localhost:8080/",
          "height": 34
        },
        "outputId": "4a9053af-beaa-43ab-a758-d6660402db44"
      },
      "source": [
        "model.fit(X,y)"
      ],
      "execution_count": 10,
      "outputs": [
        {
          "output_type": "execute_result",
          "data": {
            "text/plain": [
              "LinearRegression(copy_X=True, fit_intercept=True, n_jobs=None, normalize=False)"
            ]
          },
          "metadata": {
            "tags": []
          },
          "execution_count": 10
        }
      ]
    },
    {
      "cell_type": "code",
      "metadata": {
        "id": "W7EfNmHZVBzd",
        "colab_type": "code",
        "colab": {
          "base_uri": "https://localhost:8080/",
          "height": 34
        },
        "outputId": "0c397d11-84da-4d8e-f118-f9a8274e4aa9"
      },
      "source": [
        "model.score(X,y) #R-squared"
      ],
      "execution_count": 11,
      "outputs": [
        {
          "output_type": "execute_result",
          "data": {
            "text/plain": [
              "0.6312750690042251"
            ]
          },
          "metadata": {
            "tags": []
          },
          "execution_count": 11
        }
      ]
    },
    {
      "cell_type": "code",
      "metadata": {
        "id": "f8V_3XG5VHL5",
        "colab_type": "code",
        "colab": {
          "base_uri": "https://localhost:8080/",
          "height": 34
        },
        "outputId": "0d2d4248-90c8-4797-9a84-599121cc8243"
      },
      "source": [
        "model.intercept_"
      ],
      "execution_count": 12,
      "outputs": [
        {
          "output_type": "execute_result",
          "data": {
            "text/plain": [
              "2.432727161471293"
            ]
          },
          "metadata": {
            "tags": []
          },
          "execution_count": 12
        }
      ]
    },
    {
      "cell_type": "code",
      "metadata": {
        "id": "KdxYqwsDWTf7",
        "colab_type": "code",
        "colab": {
          "base_uri": "https://localhost:8080/",
          "height": 34
        },
        "outputId": "d3453da7-121c-46a9-b744-72b3d7db28be"
      },
      "source": [
        "model.coef_"
      ],
      "execution_count": 13,
      "outputs": [
        {
          "output_type": "execute_result",
          "data": {
            "text/plain": [
              "array([4.36961383e-05])"
            ]
          },
          "metadata": {
            "tags": []
          },
          "execution_count": 13
        }
      ]
    },
    {
      "cell_type": "code",
      "metadata": {
        "id": "3fd-pQxLWWlI",
        "colab_type": "code",
        "colab": {
          "base_uri": "https://localhost:8080/",
          "height": 34
        },
        "outputId": "0ff0d33f-68a6-4eb4-f4a3-d0cc75115e80"
      },
      "source": [
        "#ถ้าประเทศนั้นมี gdp9000 bigmacจะราคาเท่าไหร่\n",
        "model.intercept_ + model.coef_ * 9000"
      ],
      "execution_count": 15,
      "outputs": [
        {
          "output_type": "execute_result",
          "data": {
            "text/plain": [
              "array([2.82599241])"
            ]
          },
          "metadata": {
            "tags": []
          },
          "execution_count": 15
        }
      ]
    },
    {
      "cell_type": "code",
      "metadata": {
        "id": "R-CvB8KWWbyT",
        "colab_type": "code",
        "colab": {
          "base_uri": "https://localhost:8080/",
          "height": 34
        },
        "outputId": "32a4d33c-a4f7-46e1-eff0-8d58ec697218"
      },
      "source": [
        "#ต้องใส่ 2d array\n",
        "model.predict([[9000]])"
      ],
      "execution_count": 20,
      "outputs": [
        {
          "output_type": "execute_result",
          "data": {
            "text/plain": [
              "array([2.82599241])"
            ]
          },
          "metadata": {
            "tags": []
          },
          "execution_count": 20
        }
      ]
    },
    {
      "cell_type": "code",
      "metadata": {
        "id": "mH6e7FWHWgj5",
        "colab_type": "code",
        "colab": {
          "base_uri": "https://localhost:8080/",
          "height": 34
        },
        "outputId": "6f2ad268-475f-457e-cdb1-1963d9e51f05"
      },
      "source": [
        "#predict 2ค่า\n",
        "model.predict([[9000],[40000]])"
      ],
      "execution_count": 17,
      "outputs": [
        {
          "output_type": "execute_result",
          "data": {
            "text/plain": [
              "array([2.82599241, 4.18057269])"
            ]
          },
          "metadata": {
            "tags": []
          },
          "execution_count": 17
        }
      ]
    },
    {
      "cell_type": "code",
      "metadata": {
        "id": "NB7oOiqwWlHn",
        "colab_type": "code",
        "colab": {
          "base_uri": "https://localhost:8080/",
          "height": 52
        },
        "outputId": "8b0f89e2-3e7d-440f-b1b8-354fccc54161"
      },
      "source": [
        "# 5000-50000 โดนนับทีละ 2500\n",
        "np.arange(5000,50000,2500)"
      ],
      "execution_count": 18,
      "outputs": [
        {
          "output_type": "execute_result",
          "data": {
            "text/plain": [
              "array([ 5000,  7500, 10000, 12500, 15000, 17500, 20000, 22500, 25000,\n",
              "       27500, 30000, 32500, 35000, 37500, 40000, 42500, 45000, 47500])"
            ]
          },
          "metadata": {
            "tags": []
          },
          "execution_count": 18
        }
      ]
    },
    {
      "cell_type": "code",
      "metadata": {
        "id": "oyxjsAunWq52",
        "colab_type": "code",
        "colab": {
          "base_uri": "https://localhost:8080/",
          "height": 105
        },
        "outputId": "be8025b1-7f10-4863-cc1e-318a66a06f42"
      },
      "source": [
        "#5000-50000 ห่างเท่าๆกัน 20ตัว\n",
        "np.linspace(5000,50000,20)"
      ],
      "execution_count": 19,
      "outputs": [
        {
          "output_type": "execute_result",
          "data": {
            "text/plain": [
              "array([ 5000.        ,  7368.42105263,  9736.84210526, 12105.26315789,\n",
              "       14473.68421053, 16842.10526316, 19210.52631579, 21578.94736842,\n",
              "       23947.36842105, 26315.78947368, 28684.21052632, 31052.63157895,\n",
              "       33421.05263158, 35789.47368421, 38157.89473684, 40526.31578947,\n",
              "       42894.73684211, 45263.15789474, 47631.57894737, 50000.        ])"
            ]
          },
          "metadata": {
            "tags": []
          },
          "execution_count": 19
        }
      ]
    },
    {
      "cell_type": "code",
      "metadata": {
        "id": "H93j0B6PWw31",
        "colab_type": "code",
        "colab": {
          "base_uri": "https://localhost:8080/",
          "height": 390
        },
        "outputId": "7c3e2dc7-03f9-4050-f66a-45a2061aceb3"
      },
      "source": [
        "#ทำเป็นซีรี่บ้าง\n",
        "s = pd.Series(np.linspace(5000,50000,20))\n",
        "s"
      ],
      "execution_count": 21,
      "outputs": [
        {
          "output_type": "execute_result",
          "data": {
            "text/plain": [
              "0      5000.000000\n",
              "1      7368.421053\n",
              "2      9736.842105\n",
              "3     12105.263158\n",
              "4     14473.684211\n",
              "5     16842.105263\n",
              "6     19210.526316\n",
              "7     21578.947368\n",
              "8     23947.368421\n",
              "9     26315.789474\n",
              "10    28684.210526\n",
              "11    31052.631579\n",
              "12    33421.052632\n",
              "13    35789.473684\n",
              "14    38157.894737\n",
              "15    40526.315789\n",
              "16    42894.736842\n",
              "17    45263.157895\n",
              "18    47631.578947\n",
              "19    50000.000000\n",
              "dtype: float64"
            ]
          },
          "metadata": {
            "tags": []
          },
          "execution_count": 21
        }
      ]
    },
    {
      "cell_type": "code",
      "metadata": {
        "id": "eHScJagvd2BT",
        "colab_type": "code",
        "colab": {
          "base_uri": "https://localhost:8080/",
          "height": 87
        },
        "outputId": "673b3d4f-a9eb-45cc-d625-dbb0793b5215"
      },
      "source": [
        "model.predict(s.to_frame())"
      ],
      "execution_count": 22,
      "outputs": [
        {
          "output_type": "execute_result",
          "data": {
            "text/plain": [
              "array([2.65120785, 2.75469871, 2.85818956, 2.96168041, 3.06517127,\n",
              "       3.16866212, 3.27215298, 3.37564383, 3.47913468, 3.58262554,\n",
              "       3.68611639, 3.78960724, 3.8930981 , 3.99658895, 4.10007981,\n",
              "       4.20357066, 4.30706151, 4.41055237, 4.51404322, 4.61753407])"
            ]
          },
          "metadata": {
            "tags": []
          },
          "execution_count": 22
        }
      ]
    },
    {
      "cell_type": "code",
      "metadata": {
        "id": "M535flwreDBg",
        "colab_type": "code",
        "colab": {
          "base_uri": "https://localhost:8080/",
          "height": 647
        },
        "outputId": "d08946fc-89c1-4ec6-bcd1-12f450832551"
      },
      "source": [
        "dx=pd.DataFrame(np.linspace(5000,50000,20), columns=['gdp'])\n",
        "dx"
      ],
      "execution_count": 23,
      "outputs": [
        {
          "output_type": "execute_result",
          "data": {
            "text/html": [
              "<div>\n",
              "<style scoped>\n",
              "    .dataframe tbody tr th:only-of-type {\n",
              "        vertical-align: middle;\n",
              "    }\n",
              "\n",
              "    .dataframe tbody tr th {\n",
              "        vertical-align: top;\n",
              "    }\n",
              "\n",
              "    .dataframe thead th {\n",
              "        text-align: right;\n",
              "    }\n",
              "</style>\n",
              "<table border=\"1\" class=\"dataframe\">\n",
              "  <thead>\n",
              "    <tr style=\"text-align: right;\">\n",
              "      <th></th>\n",
              "      <th>gdp</th>\n",
              "    </tr>\n",
              "  </thead>\n",
              "  <tbody>\n",
              "    <tr>\n",
              "      <th>0</th>\n",
              "      <td>5000.000000</td>\n",
              "    </tr>\n",
              "    <tr>\n",
              "      <th>1</th>\n",
              "      <td>7368.421053</td>\n",
              "    </tr>\n",
              "    <tr>\n",
              "      <th>2</th>\n",
              "      <td>9736.842105</td>\n",
              "    </tr>\n",
              "    <tr>\n",
              "      <th>3</th>\n",
              "      <td>12105.263158</td>\n",
              "    </tr>\n",
              "    <tr>\n",
              "      <th>4</th>\n",
              "      <td>14473.684211</td>\n",
              "    </tr>\n",
              "    <tr>\n",
              "      <th>5</th>\n",
              "      <td>16842.105263</td>\n",
              "    </tr>\n",
              "    <tr>\n",
              "      <th>6</th>\n",
              "      <td>19210.526316</td>\n",
              "    </tr>\n",
              "    <tr>\n",
              "      <th>7</th>\n",
              "      <td>21578.947368</td>\n",
              "    </tr>\n",
              "    <tr>\n",
              "      <th>8</th>\n",
              "      <td>23947.368421</td>\n",
              "    </tr>\n",
              "    <tr>\n",
              "      <th>9</th>\n",
              "      <td>26315.789474</td>\n",
              "    </tr>\n",
              "    <tr>\n",
              "      <th>10</th>\n",
              "      <td>28684.210526</td>\n",
              "    </tr>\n",
              "    <tr>\n",
              "      <th>11</th>\n",
              "      <td>31052.631579</td>\n",
              "    </tr>\n",
              "    <tr>\n",
              "      <th>12</th>\n",
              "      <td>33421.052632</td>\n",
              "    </tr>\n",
              "    <tr>\n",
              "      <th>13</th>\n",
              "      <td>35789.473684</td>\n",
              "    </tr>\n",
              "    <tr>\n",
              "      <th>14</th>\n",
              "      <td>38157.894737</td>\n",
              "    </tr>\n",
              "    <tr>\n",
              "      <th>15</th>\n",
              "      <td>40526.315789</td>\n",
              "    </tr>\n",
              "    <tr>\n",
              "      <th>16</th>\n",
              "      <td>42894.736842</td>\n",
              "    </tr>\n",
              "    <tr>\n",
              "      <th>17</th>\n",
              "      <td>45263.157895</td>\n",
              "    </tr>\n",
              "    <tr>\n",
              "      <th>18</th>\n",
              "      <td>47631.578947</td>\n",
              "    </tr>\n",
              "    <tr>\n",
              "      <th>19</th>\n",
              "      <td>50000.000000</td>\n",
              "    </tr>\n",
              "  </tbody>\n",
              "</table>\n",
              "</div>"
            ],
            "text/plain": [
              "             gdp\n",
              "0    5000.000000\n",
              "1    7368.421053\n",
              "2    9736.842105\n",
              "3   12105.263158\n",
              "4   14473.684211\n",
              "5   16842.105263\n",
              "6   19210.526316\n",
              "7   21578.947368\n",
              "8   23947.368421\n",
              "9   26315.789474\n",
              "10  28684.210526\n",
              "11  31052.631579\n",
              "12  33421.052632\n",
              "13  35789.473684\n",
              "14  38157.894737\n",
              "15  40526.315789\n",
              "16  42894.736842\n",
              "17  45263.157895\n",
              "18  47631.578947\n",
              "19  50000.000000"
            ]
          },
          "metadata": {
            "tags": []
          },
          "execution_count": 23
        }
      ]
    },
    {
      "cell_type": "code",
      "metadata": {
        "id": "kbWHtwM0eZNN",
        "colab_type": "code",
        "colab": {
          "base_uri": "https://localhost:8080/",
          "height": 87
        },
        "outputId": "a73ab3d3-6c8f-41c9-a561-b5e910250bd6"
      },
      "source": [
        "model.predict(dx)"
      ],
      "execution_count": 24,
      "outputs": [
        {
          "output_type": "execute_result",
          "data": {
            "text/plain": [
              "array([2.65120785, 2.75469871, 2.85818956, 2.96168041, 3.06517127,\n",
              "       3.16866212, 3.27215298, 3.37564383, 3.47913468, 3.58262554,\n",
              "       3.68611639, 3.78960724, 3.8930981 , 3.99658895, 4.10007981,\n",
              "       4.20357066, 4.30706151, 4.41055237, 4.51404322, 4.61753407])"
            ]
          },
          "metadata": {
            "tags": []
          },
          "execution_count": 24
        }
      ]
    },
    {
      "cell_type": "code",
      "metadata": {
        "id": "2x6ULcyrecs9",
        "colab_type": "code",
        "colab": {}
      },
      "source": [
        ""
      ],
      "execution_count": null,
      "outputs": []
    },
    {
      "cell_type": "markdown",
      "metadata": {
        "id": "C_bky3Zgeivu",
        "colab_type": "text"
      },
      "source": [
        "**Statmodels: Linear regression**"
      ]
    },
    {
      "cell_type": "code",
      "metadata": {
        "id": "6nF1_GvUerlq",
        "colab_type": "code",
        "colab": {}
      },
      "source": [
        "import statsmodels.api as sm\n",
        "import statsmodels.formula.api as smf"
      ],
      "execution_count": 25,
      "outputs": []
    },
    {
      "cell_type": "code",
      "metadata": {
        "id": "pFQ0EkHje4Bt",
        "colab_type": "code",
        "colab": {}
      },
      "source": [
        "model_a = smf.ols(formula='dollar_price ~ GDP_dollar', data=df).fit()"
      ],
      "execution_count": 27,
      "outputs": []
    },
    {
      "cell_type": "code",
      "metadata": {
        "id": "SSVlpneXg_ed",
        "colab_type": "code",
        "colab": {
          "base_uri": "https://localhost:8080/",
          "height": 496
        },
        "outputId": "84fdf9f2-9ebb-4154-de79-88a2ca3d37cc"
      },
      "source": [
        "print(model_a.summary())"
      ],
      "execution_count": 28,
      "outputs": [
        {
          "output_type": "stream",
          "text": [
            "                            OLS Regression Results                            \n",
            "==============================================================================\n",
            "Dep. Variable:           dollar_price   R-squared:                       0.631\n",
            "Model:                            OLS   Adj. R-squared:                  0.621\n",
            "Method:                 Least Squares   F-statistic:                     59.92\n",
            "Date:                Wed, 01 Jul 2020   Prob (F-statistic):           4.34e-09\n",
            "Time:                        08:39:19   Log-Likelihood:                -41.445\n",
            "No. Observations:                  37   AIC:                             86.89\n",
            "Df Residuals:                      35   BIC:                             90.11\n",
            "Df Model:                           1                                         \n",
            "Covariance Type:            nonrobust                                         \n",
            "==============================================================================\n",
            "                 coef    std err          t      P>|t|      [0.025      0.975]\n",
            "------------------------------------------------------------------------------\n",
            "Intercept      2.4327      0.195     12.479      0.000       2.037       2.828\n",
            "GDP_dollar   4.37e-05   5.64e-06      7.741      0.000    3.22e-05    5.52e-05\n",
            "==============================================================================\n",
            "Omnibus:                        0.604   Durbin-Watson:                   2.059\n",
            "Prob(Omnibus):                  0.739   Jarque-Bera (JB):                0.312\n",
            "Skew:                          -0.225   Prob(JB):                        0.856\n",
            "Kurtosis:                       2.983   Cond. No.                     5.37e+04\n",
            "==============================================================================\n",
            "\n",
            "Warnings:\n",
            "[1] Standard Errors assume that the covariance matrix of the errors is correctly specified.\n",
            "[2] The condition number is large, 5.37e+04. This might indicate that there are\n",
            "strong multicollinearity or other numerical problems.\n"
          ],
          "name": "stdout"
        }
      ]
    },
    {
      "cell_type": "code",
      "metadata": {
        "id": "DKGTxgUBh8If",
        "colab_type": "code",
        "colab": {
          "base_uri": "https://localhost:8080/",
          "height": 70
        },
        "outputId": "ea5e4f12-23e2-4185-a0b8-245fef523915"
      },
      "source": [
        "model_a.pvalues"
      ],
      "execution_count": 29,
      "outputs": [
        {
          "output_type": "execute_result",
          "data": {
            "text/plain": [
              "Intercept     1.915703e-14\n",
              "GDP_dollar    4.338811e-09\n",
              "dtype: float64"
            ]
          },
          "metadata": {
            "tags": []
          },
          "execution_count": 29
        }
      ]
    },
    {
      "cell_type": "code",
      "metadata": {
        "id": "5DVzHGPLjYQh",
        "colab_type": "code",
        "colab": {
          "base_uri": "https://localhost:8080/",
          "height": 34
        },
        "outputId": "28c85ad4-5feb-4887-d2e2-859b2c789554"
      },
      "source": [
        "model.intercept_"
      ],
      "execution_count": 30,
      "outputs": [
        {
          "output_type": "execute_result",
          "data": {
            "text/plain": [
              "2.432727161471293"
            ]
          },
          "metadata": {
            "tags": []
          },
          "execution_count": 30
        }
      ]
    },
    {
      "cell_type": "code",
      "metadata": {
        "id": "6RVI_mUKjbif",
        "colab_type": "code",
        "colab": {
          "base_uri": "https://localhost:8080/",
          "height": 34
        },
        "outputId": "70d42908-f8f0-4d97-b7d5-81ba0fbef5d5"
      },
      "source": [
        "model.coef_"
      ],
      "execution_count": 32,
      "outputs": [
        {
          "output_type": "execute_result",
          "data": {
            "text/plain": [
              "array([4.36961383e-05])"
            ]
          },
          "metadata": {
            "tags": []
          },
          "execution_count": 32
        }
      ]
    },
    {
      "cell_type": "code",
      "metadata": {
        "id": "gWIhamV9jePV",
        "colab_type": "code",
        "colab": {
          "base_uri": "https://localhost:8080/",
          "height": 34
        },
        "outputId": "a91f492a-9e7f-45fb-88cf-f13569931d5d"
      },
      "source": [
        "print(f'{model.coef_[0]:.7f}')"
      ],
      "execution_count": 33,
      "outputs": [
        {
          "output_type": "stream",
          "text": [
            "0.0000437\n"
          ],
          "name": "stdout"
        }
      ]
    },
    {
      "cell_type": "code",
      "metadata": {
        "id": "RGT8Zax6jqTl",
        "colab_type": "code",
        "colab": {}
      },
      "source": [
        ""
      ],
      "execution_count": null,
      "outputs": []
    }
  ]
}